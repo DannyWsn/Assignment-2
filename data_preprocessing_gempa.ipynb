{
 "cells": [
  {
   "cell_type": "code",
   "execution_count": 1,
   "id": "c0818c7b",
   "metadata": {},
   "outputs": [],
   "source": [
    "import numpy as np\n",
    "import matplotlib.pyplot as plt\n",
    "import pandas as pd"
   ]
  },
  {
   "cell_type": "code",
   "execution_count": 2,
   "id": "c2ad5aad",
   "metadata": {},
   "outputs": [],
   "source": [
    "dataset = pd.read_csv(\"data_gempa_2020.csv\")\n",
    "X = dataset.iloc[:, :-1].values\n",
    "y = dataset.iloc[:, -1].values"
   ]
  },
  {
   "cell_type": "code",
   "execution_count": 3,
   "id": "54a3e1a1",
   "metadata": {},
   "outputs": [
    {
     "data": {
      "text/html": [
       "<div>\n",
       "<style scoped>\n",
       "    .dataframe tbody tr th:only-of-type {\n",
       "        vertical-align: middle;\n",
       "    }\n",
       "\n",
       "    .dataframe tbody tr th {\n",
       "        vertical-align: top;\n",
       "    }\n",
       "\n",
       "    .dataframe thead th {\n",
       "        text-align: right;\n",
       "    }\n",
       "</style>\n",
       "<table border=\"1\" class=\"dataframe\">\n",
       "  <thead>\n",
       "    <tr style=\"text-align: right;\">\n",
       "      <th></th>\n",
       "      <th>Year</th>\n",
       "      <th>Month</th>\n",
       "      <th>Day</th>\n",
       "      <th>Time</th>\n",
       "      <th>Lat</th>\n",
       "      <th>Lon</th>\n",
       "      <th>Depth</th>\n",
       "      <th>Mag</th>\n",
       "      <th>Region</th>\n",
       "      <th>Timestamp</th>\n",
       "    </tr>\n",
       "  </thead>\n",
       "  <tbody>\n",
       "    <tr>\n",
       "      <th>0</th>\n",
       "      <td>2020</td>\n",
       "      <td>12</td>\n",
       "      <td>30</td>\n",
       "      <td>23:03:00</td>\n",
       "      <td>5.1231</td>\n",
       "      <td>125.2581</td>\n",
       "      <td>54.1</td>\n",
       "      <td>4.6</td>\n",
       "      <td>38 km SW of Sarangani, Philippines</td>\n",
       "      <td>1609369380</td>\n",
       "    </tr>\n",
       "    <tr>\n",
       "      <th>1</th>\n",
       "      <td>2020</td>\n",
       "      <td>12</td>\n",
       "      <td>30</td>\n",
       "      <td>21:27:32</td>\n",
       "      <td>7.6359</td>\n",
       "      <td>126.9172</td>\n",
       "      <td>53.3</td>\n",
       "      <td>4.6</td>\n",
       "      <td>40 km E of Baganga, Philippines</td>\n",
       "      <td>1609363652</td>\n",
       "    </tr>\n",
       "    <tr>\n",
       "      <th>2</th>\n",
       "      <td>2020</td>\n",
       "      <td>12</td>\n",
       "      <td>30</td>\n",
       "      <td>20:29:33</td>\n",
       "      <td>-6.6907</td>\n",
       "      <td>127.4441</td>\n",
       "      <td>393.4</td>\n",
       "      <td>4.5</td>\n",
       "      <td>208 km NNE of Lospalos, Timor Leste</td>\n",
       "      <td>1609360173</td>\n",
       "    </tr>\n",
       "    <tr>\n",
       "      <th>3</th>\n",
       "      <td>2020</td>\n",
       "      <td>12</td>\n",
       "      <td>30</td>\n",
       "      <td>19:36:05</td>\n",
       "      <td>-6.8738</td>\n",
       "      <td>147.6965</td>\n",
       "      <td>68.4</td>\n",
       "      <td>4.5</td>\n",
       "      <td>38 km SSW of Finschhafen, Papua New Guinea</td>\n",
       "      <td>1609356965</td>\n",
       "    </tr>\n",
       "    <tr>\n",
       "      <th>4</th>\n",
       "      <td>2020</td>\n",
       "      <td>12</td>\n",
       "      <td>30</td>\n",
       "      <td>19:10:20</td>\n",
       "      <td>-2.3988</td>\n",
       "      <td>127.4859</td>\n",
       "      <td>16.4</td>\n",
       "      <td>4.8</td>\n",
       "      <td>163 km NNW of Ambon, Indonesia</td>\n",
       "      <td>1609355420</td>\n",
       "    </tr>\n",
       "    <tr>\n",
       "      <th>...</th>\n",
       "      <td>...</td>\n",
       "      <td>...</td>\n",
       "      <td>...</td>\n",
       "      <td>...</td>\n",
       "      <td>...</td>\n",
       "      <td>...</td>\n",
       "      <td>...</td>\n",
       "      <td>...</td>\n",
       "      <td>...</td>\n",
       "      <td>...</td>\n",
       "    </tr>\n",
       "    <tr>\n",
       "      <th>4044</th>\n",
       "      <td>2020</td>\n",
       "      <td>1</td>\n",
       "      <td>1</td>\n",
       "      <td>12:28:34</td>\n",
       "      <td>0.1936</td>\n",
       "      <td>121.5572</td>\n",
       "      <td>141.3</td>\n",
       "      <td>4.1</td>\n",
       "      <td>38km S of Lemito, Indonesia</td>\n",
       "      <td>1577881714</td>\n",
       "    </tr>\n",
       "    <tr>\n",
       "      <th>4045</th>\n",
       "      <td>2020</td>\n",
       "      <td>1</td>\n",
       "      <td>1</td>\n",
       "      <td>06:01:14</td>\n",
       "      <td>-6.7009</td>\n",
       "      <td>129.7667</td>\n",
       "      <td>155.1</td>\n",
       "      <td>4.4</td>\n",
       "      <td>219km NW of Saumlaki, Indonesia</td>\n",
       "      <td>1577858474</td>\n",
       "    </tr>\n",
       "    <tr>\n",
       "      <th>4046</th>\n",
       "      <td>2020</td>\n",
       "      <td>1</td>\n",
       "      <td>1</td>\n",
       "      <td>04:38:07</td>\n",
       "      <td>2.0047</td>\n",
       "      <td>126.7211</td>\n",
       "      <td>51.0</td>\n",
       "      <td>4.4</td>\n",
       "      <td>146km WNW of Tobelo, Indonesia</td>\n",
       "      <td>1577853487</td>\n",
       "    </tr>\n",
       "    <tr>\n",
       "      <th>4047</th>\n",
       "      <td>2020</td>\n",
       "      <td>1</td>\n",
       "      <td>1</td>\n",
       "      <td>00:35:48</td>\n",
       "      <td>-5.3373</td>\n",
       "      <td>152.6003</td>\n",
       "      <td>32.9</td>\n",
       "      <td>4.6</td>\n",
       "      <td>107km SSW of Taron, Papua New Guinea</td>\n",
       "      <td>1577838948</td>\n",
       "    </tr>\n",
       "    <tr>\n",
       "      <th>4048</th>\n",
       "      <td>2020</td>\n",
       "      <td>1</td>\n",
       "      <td>1</td>\n",
       "      <td>00:28:20</td>\n",
       "      <td>-5.3245</td>\n",
       "      <td>152.5514</td>\n",
       "      <td>40.2</td>\n",
       "      <td>5.1</td>\n",
       "      <td>108km SSW of Taron, Papua New Guinea</td>\n",
       "      <td>1577838500</td>\n",
       "    </tr>\n",
       "  </tbody>\n",
       "</table>\n",
       "<p>4049 rows × 10 columns</p>\n",
       "</div>"
      ],
      "text/plain": [
       "      Year  Month  Day      Time     Lat       Lon  Depth  Mag  \\\n",
       "0     2020     12   30  23:03:00  5.1231  125.2581   54.1  4.6   \n",
       "1     2020     12   30  21:27:32  7.6359  126.9172   53.3  4.6   \n",
       "2     2020     12   30  20:29:33 -6.6907  127.4441  393.4  4.5   \n",
       "3     2020     12   30  19:36:05 -6.8738  147.6965   68.4  4.5   \n",
       "4     2020     12   30  19:10:20 -2.3988  127.4859   16.4  4.8   \n",
       "...    ...    ...  ...       ...     ...       ...    ...  ...   \n",
       "4044  2020      1    1  12:28:34  0.1936  121.5572  141.3  4.1   \n",
       "4045  2020      1    1  06:01:14 -6.7009  129.7667  155.1  4.4   \n",
       "4046  2020      1    1  04:38:07  2.0047  126.7211   51.0  4.4   \n",
       "4047  2020      1    1  00:35:48 -5.3373  152.6003   32.9  4.6   \n",
       "4048  2020      1    1  00:28:20 -5.3245  152.5514   40.2  5.1   \n",
       "\n",
       "                                          Region   Timestamp  \n",
       "0             38 km SW of Sarangani, Philippines  1609369380  \n",
       "1                40 km E of Baganga, Philippines  1609363652  \n",
       "2            208 km NNE of Lospalos, Timor Leste  1609360173  \n",
       "3     38 km SSW of Finschhafen, Papua New Guinea  1609356965  \n",
       "4                 163 km NNW of Ambon, Indonesia  1609355420  \n",
       "...                                          ...         ...  \n",
       "4044                 38km S of Lemito, Indonesia  1577881714  \n",
       "4045             219km NW of Saumlaki, Indonesia  1577858474  \n",
       "4046              146km WNW of Tobelo, Indonesia  1577853487  \n",
       "4047        107km SSW of Taron, Papua New Guinea  1577838948  \n",
       "4048        108km SSW of Taron, Papua New Guinea  1577838500  \n",
       "\n",
       "[4049 rows x 10 columns]"
      ]
     },
     "execution_count": 3,
     "metadata": {},
     "output_type": "execute_result"
    }
   ],
   "source": [
    "dataset"
   ]
  },
  {
   "cell_type": "code",
   "execution_count": 4,
   "id": "f767283f",
   "metadata": {},
   "outputs": [
    {
     "data": {
      "text/html": [
       "<div>\n",
       "<style scoped>\n",
       "    .dataframe tbody tr th:only-of-type {\n",
       "        vertical-align: middle;\n",
       "    }\n",
       "\n",
       "    .dataframe tbody tr th {\n",
       "        vertical-align: top;\n",
       "    }\n",
       "\n",
       "    .dataframe thead th {\n",
       "        text-align: right;\n",
       "    }\n",
       "</style>\n",
       "<table border=\"1\" class=\"dataframe\">\n",
       "  <thead>\n",
       "    <tr style=\"text-align: right;\">\n",
       "      <th></th>\n",
       "      <th>Year</th>\n",
       "      <th>Month</th>\n",
       "      <th>Day</th>\n",
       "      <th>Time</th>\n",
       "      <th>Lat</th>\n",
       "      <th>Lon</th>\n",
       "      <th>Depth</th>\n",
       "      <th>Mag</th>\n",
       "      <th>Region</th>\n",
       "      <th>Timestamp</th>\n",
       "    </tr>\n",
       "  </thead>\n",
       "  <tbody>\n",
       "    <tr>\n",
       "      <th>0</th>\n",
       "      <td>2020</td>\n",
       "      <td>12</td>\n",
       "      <td>30</td>\n",
       "      <td>23:03:00</td>\n",
       "      <td>5.1231</td>\n",
       "      <td>125.2581</td>\n",
       "      <td>54.1</td>\n",
       "      <td>4.6</td>\n",
       "      <td>38 km SW of Sarangani, Philippines</td>\n",
       "      <td>1609369380</td>\n",
       "    </tr>\n",
       "    <tr>\n",
       "      <th>1</th>\n",
       "      <td>2020</td>\n",
       "      <td>12</td>\n",
       "      <td>30</td>\n",
       "      <td>21:27:32</td>\n",
       "      <td>7.6359</td>\n",
       "      <td>126.9172</td>\n",
       "      <td>53.3</td>\n",
       "      <td>4.6</td>\n",
       "      <td>40 km E of Baganga, Philippines</td>\n",
       "      <td>1609363652</td>\n",
       "    </tr>\n",
       "    <tr>\n",
       "      <th>2</th>\n",
       "      <td>2020</td>\n",
       "      <td>12</td>\n",
       "      <td>30</td>\n",
       "      <td>20:29:33</td>\n",
       "      <td>-6.6907</td>\n",
       "      <td>127.4441</td>\n",
       "      <td>393.4</td>\n",
       "      <td>4.5</td>\n",
       "      <td>208 km NNE of Lospalos, Timor Leste</td>\n",
       "      <td>1609360173</td>\n",
       "    </tr>\n",
       "    <tr>\n",
       "      <th>3</th>\n",
       "      <td>2020</td>\n",
       "      <td>12</td>\n",
       "      <td>30</td>\n",
       "      <td>19:36:05</td>\n",
       "      <td>-6.8738</td>\n",
       "      <td>147.6965</td>\n",
       "      <td>68.4</td>\n",
       "      <td>4.5</td>\n",
       "      <td>38 km SSW of Finschhafen, Papua New Guinea</td>\n",
       "      <td>1609356965</td>\n",
       "    </tr>\n",
       "    <tr>\n",
       "      <th>4</th>\n",
       "      <td>2020</td>\n",
       "      <td>12</td>\n",
       "      <td>30</td>\n",
       "      <td>19:10:20</td>\n",
       "      <td>-2.3988</td>\n",
       "      <td>127.4859</td>\n",
       "      <td>16.4</td>\n",
       "      <td>4.8</td>\n",
       "      <td>163 km NNW of Ambon, Indonesia</td>\n",
       "      <td>1609355420</td>\n",
       "    </tr>\n",
       "  </tbody>\n",
       "</table>\n",
       "</div>"
      ],
      "text/plain": [
       "   Year  Month  Day      Time     Lat       Lon  Depth  Mag  \\\n",
       "0  2020     12   30  23:03:00  5.1231  125.2581   54.1  4.6   \n",
       "1  2020     12   30  21:27:32  7.6359  126.9172   53.3  4.6   \n",
       "2  2020     12   30  20:29:33 -6.6907  127.4441  393.4  4.5   \n",
       "3  2020     12   30  19:36:05 -6.8738  147.6965   68.4  4.5   \n",
       "4  2020     12   30  19:10:20 -2.3988  127.4859   16.4  4.8   \n",
       "\n",
       "                                       Region   Timestamp  \n",
       "0          38 km SW of Sarangani, Philippines  1609369380  \n",
       "1             40 km E of Baganga, Philippines  1609363652  \n",
       "2         208 km NNE of Lospalos, Timor Leste  1609360173  \n",
       "3  38 km SSW of Finschhafen, Papua New Guinea  1609356965  \n",
       "4              163 km NNW of Ambon, Indonesia  1609355420  "
      ]
     },
     "execution_count": 4,
     "metadata": {},
     "output_type": "execute_result"
    }
   ],
   "source": [
    "dataset.head()"
   ]
  },
  {
   "cell_type": "code",
   "execution_count": 5,
   "id": "46ee6667",
   "metadata": {},
   "outputs": [],
   "source": [
    "# dnama = dataset['Region'].str.extract(' ([A-Za-z]+)\\,', expand=False)\n",
    "# dnama.value_counts()"
   ]
  },
  {
   "cell_type": "code",
   "execution_count": 6,
   "id": "ee31e2d7",
   "metadata": {},
   "outputs": [],
   "source": [
    "from sklearn.model_selection import train_test_split\n",
    "X_train, X_test, y_train, y_test = train_test_split(X, y, test_size = 0.2, random_state = 0)"
   ]
  },
  {
   "cell_type": "code",
   "execution_count": 7,
   "id": "fc6d7235",
   "metadata": {},
   "outputs": [
    {
     "name": "stdout",
     "output_type": "stream",
     "text": [
      "[[2020 12 30 ... 54.1 4.6 '38 km SW of Sarangani, Philippines']\n",
      " [2020 12 30 ... 53.3 4.6 '40 km E of Baganga, Philippines']\n",
      " [2020 12 30 ... 393.4 4.5 '208 km NNE of Lospalos, Timor Leste']\n",
      " ...\n",
      " [2020 1 1 ... 51.0 4.4 '146km WNW of Tobelo, Indonesia']\n",
      " [2020 1 1 ... 32.9 4.6 '107km SSW of Taron, Papua New Guinea']\n",
      " [2020 1 1 ... 40.2 5.1 '108km SSW of Taron, Papua New Guinea']]\n"
     ]
    }
   ],
   "source": [
    "print(X)"
   ]
  },
  {
   "cell_type": "code",
   "execution_count": 8,
   "id": "bed2ec04",
   "metadata": {},
   "outputs": [
    {
     "name": "stdout",
     "output_type": "stream",
     "text": [
      "[1609369380 1609363652 1609360173 ... 1577853487 1577838948 1577838500]\n"
     ]
    }
   ],
   "source": [
    "print(y)"
   ]
  },
  {
   "cell_type": "code",
   "execution_count": 9,
   "id": "6dbaf3b0",
   "metadata": {},
   "outputs": [],
   "source": [
    "from sklearn.impute import SimpleImputer\n",
    "imputer = SimpleImputer(missing_values=np.nan, strategy='constant')\n",
    "imputer.fit(X[:, 1:9])\n",
    "X[:, 1:9] = imputer.transform(X[:, 1:9])"
   ]
  },
  {
   "cell_type": "code",
   "execution_count": 10,
   "id": "627a851d",
   "metadata": {},
   "outputs": [
    {
     "name": "stdout",
     "output_type": "stream",
     "text": [
      "[[2020 12 30 ... 54.1 4.6 '38 km SW of Sarangani, Philippines']\n",
      " [2020 12 30 ... 53.3 4.6 '40 km E of Baganga, Philippines']\n",
      " [2020 12 30 ... 393.4 4.5 '208 km NNE of Lospalos, Timor Leste']\n",
      " ...\n",
      " [2020 1 1 ... 51.0 4.4 '146km WNW of Tobelo, Indonesia']\n",
      " [2020 1 1 ... 32.9 4.6 '107km SSW of Taron, Papua New Guinea']\n",
      " [2020 1 1 ... 40.2 5.1 '108km SSW of Taron, Papua New Guinea']]\n"
     ]
    }
   ],
   "source": [
    "print(X)"
   ]
  },
  {
   "cell_type": "code",
   "execution_count": 11,
   "id": "802cf789",
   "metadata": {},
   "outputs": [
    {
     "name": "stdout",
     "output_type": "stream",
     "text": [
      "[[2020 12 30 ... 54.1 4.6 '38 km SW of Sarangani, Philippines']\n",
      " [2020 12 30 ... 53.3 4.6 '40 km E of Baganga, Philippines']\n",
      " [2020 12 30 ... 393.4 4.5 '208 km NNE of Lospalos, Timor Leste']\n",
      " ...\n",
      " [2020 1 1 ... 51.0 4.4 '146km WNW of Tobelo, Indonesia']\n",
      " [2020 1 1 ... 32.9 4.6 '107km SSW of Taron, Papua New Guinea']\n",
      " [2020 1 1 ... 40.2 5.1 '108km SSW of Taron, Papua New Guinea']]\n"
     ]
    }
   ],
   "source": [
    "print(X)"
   ]
  },
  {
   "cell_type": "code",
   "execution_count": 21,
   "id": "b3d32b89",
   "metadata": {},
   "outputs": [],
   "source": [
    "from sklearn.compose import ColumnTransformer\n",
    "from sklearn.preprocessing import OneHotEncoder\n",
    "ct = ColumnTransformer(transformers=[('encoder', OneHotEncoder(), [0])], remainder='passthrough')\n",
    "X = np.array(ct.fit_transform(X))"
   ]
  },
  {
   "cell_type": "code",
   "execution_count": 22,
   "id": "025dd570",
   "metadata": {},
   "outputs": [
    {
     "name": "stdout",
     "output_type": "stream",
     "text": [
      "[[1.0 12 30 ... 54.1 4.6 '38 km SW of Sarangani, Philippines']\n",
      " [1.0 12 30 ... 53.3 4.6 '40 km E of Baganga, Philippines']\n",
      " [1.0 12 30 ... 393.4 4.5 '208 km NNE of Lospalos, Timor Leste']\n",
      " ...\n",
      " [1.0 1 1 ... 51.0 4.4 '146km WNW of Tobelo, Indonesia']\n",
      " [1.0 1 1 ... 32.9 4.6 '107km SSW of Taron, Papua New Guinea']\n",
      " [1.0 1 1 ... 40.2 5.1 '108km SSW of Taron, Papua New Guinea']]\n"
     ]
    }
   ],
   "source": [
    "print(X)"
   ]
  },
  {
   "cell_type": "code",
   "execution_count": 15,
   "id": "a5c4faf7",
   "metadata": {},
   "outputs": [],
   "source": [
    "from sklearn.model_selection import train_test_split\n",
    "X_train, X_test, y_train, y_test = train_test_split(X, y, test_size = 0.2, random_state = 1) "
   ]
  },
  {
   "cell_type": "code",
   "execution_count": 16,
   "id": "790aa692",
   "metadata": {},
   "outputs": [
    {
     "name": "stdout",
     "output_type": "stream",
     "text": [
      "[[1.0 11 17 ... 10.0 5.1 '85 km E of Port-Olry, Vanuatu']\n",
      " [1.0 7 6 ... 133.7 4.5 'Maug Islands region, Northern Mariana Islands']\n",
      " [1.0 4 19 ... 10.0 4.2 '138 km SW of Panguna, Papua New Guinea']\n",
      " ...\n",
      " [1.0 1 7 ... 433.8 4.0 '51km SW of Agrihan, Northern Mariana Islands']\n",
      " [1.0 12 9 ... 10.0 4.6 '117 km SW of Merizo Village, Guam']\n",
      " [1.0 9 20 ... 10.0 5.3 '83 km E of Cortes, Philippines']]\n"
     ]
    }
   ],
   "source": [
    "print(X_train)"
   ]
  },
  {
   "cell_type": "code",
   "execution_count": 17,
   "id": "b1920a7e",
   "metadata": {},
   "outputs": [
    {
     "name": "stdout",
     "output_type": "stream",
     "text": [
      "[[1.0 4 30 ... 10.0 4.4 '123 km ENE of Amahai, Indonesia']\n",
      " [1.0 4 19 ... 32.7 4.3 '187 km SSW of Abepura, Indonesia']\n",
      " [1.0 8 17 ... 10.0 5.3 '239 km NE of Samarai, Papua New Guinea']\n",
      " ...\n",
      " [1.0 1 22 ... 10.0 4.7 '260km SW of Merizo Village, Guam']\n",
      " [1.0 7 13 ... 10.0 4.9 '106 km S of Lakatoro, Vanuatu']\n",
      " [1.0 12 16 ... 74.6 4.8 '92 km SE of Pondaguitan, Philippines']]\n"
     ]
    }
   ],
   "source": [
    "print(X_test)"
   ]
  },
  {
   "cell_type": "code",
   "execution_count": 18,
   "id": "39647829",
   "metadata": {},
   "outputs": [
    {
     "name": "stdout",
     "output_type": "stream",
     "text": [
      "[3584 2142 1305 ...   68 3813 2987]\n"
     ]
    }
   ],
   "source": [
    "print(y_train)"
   ]
  },
  {
   "cell_type": "code",
   "execution_count": 19,
   "id": "7b32a08c",
   "metadata": {},
   "outputs": [
    {
     "name": "stdout",
     "output_type": "stream",
     "text": [
      "[1428 1300 2600 1336 1328  739  964  785  876 1070 1792 3756 2959 2513\n",
      " 2444 2816  715 3491 2318 2435 3925 2470 3252 1220  840 3461  520 2853\n",
      " 2084 3225  281 2264  179 2950 3838 3080  280 1522 1010 3608  632  544\n",
      " 3438 2115 1082 2552 2031  514   37  838  655 3052 2483 1310 3749 1403\n",
      " 2049 2061 2905 1699 1732 1197 3474  306  341 1725 3818 2508 3116 3848\n",
      " 1368 1986 2863 1582  304 3339 1590 2629 3530  494    9 1079 2306  354\n",
      " 2498 2906 1017 1108 1058  482 1248  591  154 3386 1339 2185 2238 3488\n",
      " 2675 2892 2350 1354 1069  830 3829 2923 1015 2391  392 1184  403  750\n",
      " 3404  690 2885 3191 2704 2832 2198  459 3279 3954  353 1233  650 3562\n",
      " 1808 3689 3550 3553 2984 2304 1030 3595  286  530  303  504  898 3093\n",
      " 3946 1286  358 2946 2311 2706  508 1084 3912 1437  610  204 2908 2638\n",
      " 1839 3561 2809 2098 3628 2496  631 1098 2216 3558 2649 3682   92 4047\n",
      " 3244 3514 1572 2500 2540 1495 1982  841  136 3443 2591 3095  548 3256\n",
      " 2163 2732 1056 3277  100 2968 3058 1634 2087 2673 3887  199 3412 2453\n",
      " 1519 1686 3168 3324  110 3370 3554 1703  672 2000  375  305  423  611\n",
      "  575 4031 3174 1157  271 2222 1130 2030 1759 3523 1950 2327 2485 1767\n",
      " 3119 3655 1284 3153 2233 3219 1209 4004 1795  365 2528 1103 2037  431\n",
      " 1117  502 2642  213 1688 1445 3055  421 3717  475 1726 3950  333 3684\n",
      " 3699 1752 1970  313 3861 1567  524  881 3091 3768  256 1565 4042 2886\n",
      " 2954 3969 3824 1490 3845  911 4029 2726 3010 3958 3329 1381 2175 2406\n",
      " 3792 2983 1531 2062  726 2535 2221 4011 3062 2314 3264 3817 2095 3610\n",
      " 1357 2376 2290  441 2259 1438 3338 2652  846 1778 2712 1441  250  194\n",
      "  481  733 1114  117  376 1946  682  702 3847 2281 2190 1528 3649 1243\n",
      " 1154  832 1628  660 1134 1980 3456  572 3203 3363 1949 3258 3940 3955\n",
      " 2002  424 1080 2056 1821 2920 1775 3330 3001  108 3193 2011  686 3567\n",
      " 2297 2595 3703 2438 2220 3105 2234  827 2299 1574 3267 3937 3146 1593\n",
      " 3083  195 2560 3879 2610  896 2955  947 1689 3632 1193 2089 2043 3949\n",
      " 3348 3697 3862 1656 3854  513 2775  795 3044 3347  293 3299 2961 2149\n",
      " 1252 1361 1595 1687 2283 2379 1702 3287  962 1611 2616 3416 2710  930\n",
      " 3680  922 1879 1535 1275  458 2879 3202 3659 2671 2647 1314  378 1152\n",
      " 2780 2192 1281 2038 3986 3303 1758  653 2530 2440 1658 2267 3650  725\n",
      "  248  774  417  921 1551 1038 1935   28 3493 3107 1293 2551   23 2090\n",
      " 2211 3139 1179 1198 2592 4035 1178 1924 3867 3212 3155 3727 3531 1320\n",
      " 3435 3269 3891 2276  218 3275 1696  749 1061 1123 3042 1309 2328 1992\n",
      " 1409  240 1442  141 3662  828  295 3613 2907  457 1892  742 2913 2352\n",
      "  885 3300 4008  181   27  822  623 2881 1964 4003 2378 1226 2407 2757\n",
      "  439  851 2321 1167 2631 1622  729 1404 2360  594 3194 1045  819  133\n",
      " 1558  416  564  174 1812 1289 2793 2829 3343 1297 2998 2917  727  433\n",
      " 1102  124 3938 2883 1440 2252 1764 3734 3064 3459 3018 1141 2153 1694\n",
      " 3075 2546 3066 1919 2452 2417 3322 3135  436 2970 3178 3665 3471  648\n",
      " 2752 2189 1321  673  438 1478 1169 2988 4045 2122 4041 1346  561 3387\n",
      " 3645   15 2778  703  873 3490 1076 2889 3054 1327  887  754 2621 2840\n",
      " 3157 2504 1353 3676 1149   89 2596 3730 2827 2003 1714  813 3485 3621\n",
      " 2777  553  355 3022 3257 1325 3786 1424 1566  352 3877 1718 1600 2489\n",
      "  916  120 2033 2877  201 2871 1784 2801 2092 3915 2811 3654 2313 3507\n",
      " 1032 1930 3418 3794 3149 2151 2152 3922 3020 1356 2657  890 3249 3460\n",
      " 2451 1185 1863 4020 3780 2017 1514 1814 1624 2636 1160  722 3117 1516\n",
      "  412 3060 3450 2978 2925 3008 1675 2622  130  972 2653  491 1106  332\n",
      "  158 3793 2974 1464 2635 1470 2400 3941 2646 1869 1615 2319 2423 1074\n",
      " 2492 2767 1639 3382 1366 2008 2484 3497   97  994 2280 3666 3973 2720\n",
      " 1132 1942 2799 1350 2294  719 2312 1539 3860  150 3719 3240 3959 2325\n",
      " 3681 1362 3751 1270  956 1388 3606 3976   50 2226 3591  512 3475  275\n",
      "  435 1118 3103 1690 3965 2668 1375 3747 1237 2482  287  613 1865 1201\n",
      " 3651 1806 3270 2107 1287 2506 1855 2200  426 3564 1116 1707 2148 2021\n",
      " 2884  985 3290 1955 1047  991 3035 2411 2197 1254  371  569 2589 1048\n",
      " 3235 1024 1756 1493 1425 1712 1075  811  537 3843   58  277 2016 3292\n",
      " 2545  109 3112 1916 1256 2434  469 3502 1772 2529 1578 3328 3757 3508\n",
      " 2847 3142 4036  903  892 1307 3781 2005 3988  301 2223 3883]\n"
     ]
    }
   ],
   "source": [
    "print(y_test)"
   ]
  },
  {
   "cell_type": "code",
   "execution_count": 24,
   "id": "6a64f89e",
   "metadata": {},
   "outputs": [],
   "source": [
    "from sklearn.preprocessing import LabelEncoder\n",
    "le = LabelEncoder()\n",
    "y = le.fit_transform(y)"
   ]
  },
  {
   "cell_type": "code",
   "execution_count": 25,
   "id": "e51e1ac1",
   "metadata": {},
   "outputs": [
    {
     "name": "stdout",
     "output_type": "stream",
     "text": [
      "[4048 4047 4046 ...    2    1    0]\n"
     ]
    }
   ],
   "source": [
    "print(y)"
   ]
  },
  {
   "cell_type": "code",
   "execution_count": 26,
   "id": "f9ab0f4a",
   "metadata": {},
   "outputs": [],
   "source": [
    "from sklearn.model_selection import train_test_split\n",
    "X_train, X_test, y_train, y_test = train_test_split(X, y, test_size = 0.2, random_state = 1)"
   ]
  },
  {
   "cell_type": "code",
   "execution_count": 27,
   "id": "2f699e6c",
   "metadata": {},
   "outputs": [
    {
     "name": "stdout",
     "output_type": "stream",
     "text": [
      "[[1.0 11 17 ... 10.0 5.1 '85 km E of Port-Olry, Vanuatu']\n",
      " [1.0 7 6 ... 133.7 4.5 'Maug Islands region, Northern Mariana Islands']\n",
      " [1.0 4 19 ... 10.0 4.2 '138 km SW of Panguna, Papua New Guinea']\n",
      " ...\n",
      " [1.0 1 7 ... 433.8 4.0 '51km SW of Agrihan, Northern Mariana Islands']\n",
      " [1.0 12 9 ... 10.0 4.6 '117 km SW of Merizo Village, Guam']\n",
      " [1.0 9 20 ... 10.0 5.3 '83 km E of Cortes, Philippines']]\n"
     ]
    }
   ],
   "source": [
    "print(X_train)"
   ]
  },
  {
   "cell_type": "code",
   "execution_count": 28,
   "id": "40401926",
   "metadata": {},
   "outputs": [
    {
     "name": "stdout",
     "output_type": "stream",
     "text": [
      "[[1.0 4 30 ... 10.0 4.4 '123 km ENE of Amahai, Indonesia']\n",
      " [1.0 4 19 ... 32.7 4.3 '187 km SSW of Abepura, Indonesia']\n",
      " [1.0 8 17 ... 10.0 5.3 '239 km NE of Samarai, Papua New Guinea']\n",
      " ...\n",
      " [1.0 1 22 ... 10.0 4.7 '260km SW of Merizo Village, Guam']\n",
      " [1.0 7 13 ... 10.0 4.9 '106 km S of Lakatoro, Vanuatu']\n",
      " [1.0 12 16 ... 74.6 4.8 '92 km SE of Pondaguitan, Philippines']]\n"
     ]
    }
   ],
   "source": [
    "print(X_test)"
   ]
  },
  {
   "cell_type": "code",
   "execution_count": 29,
   "id": "371b9b61",
   "metadata": {},
   "outputs": [
    {
     "name": "stdout",
     "output_type": "stream",
     "text": [
      "[3584 2142 1305 ...   68 3813 2987]\n"
     ]
    }
   ],
   "source": [
    "print(y_train)"
   ]
  },
  {
   "cell_type": "code",
   "execution_count": 30,
   "id": "f4dcd97f",
   "metadata": {},
   "outputs": [
    {
     "name": "stdout",
     "output_type": "stream",
     "text": [
      "[1428 1300 2600 1336 1328  739  964  785  876 1070 1792 3756 2959 2513\n",
      " 2444 2816  715 3491 2318 2435 3925 2470 3252 1220  840 3461  520 2853\n",
      " 2084 3225  281 2264  179 2950 3838 3080  280 1522 1010 3608  632  544\n",
      " 3438 2115 1082 2552 2031  514   37  838  655 3052 2483 1310 3749 1403\n",
      " 2049 2061 2905 1699 1732 1197 3474  306  341 1725 3818 2508 3116 3848\n",
      " 1368 1986 2863 1582  304 3339 1590 2629 3530  494    9 1079 2306  354\n",
      " 2498 2906 1017 1108 1058  482 1248  591  154 3386 1339 2185 2238 3488\n",
      " 2675 2892 2350 1354 1069  830 3829 2923 1015 2391  392 1184  403  750\n",
      " 3404  690 2885 3191 2704 2832 2198  459 3279 3954  353 1233  650 3562\n",
      " 1808 3689 3550 3553 2984 2304 1030 3595  286  530  303  504  898 3093\n",
      " 3946 1286  358 2946 2311 2706  508 1084 3912 1437  610  204 2908 2638\n",
      " 1839 3561 2809 2098 3628 2496  631 1098 2216 3558 2649 3682   92 4047\n",
      " 3244 3514 1572 2500 2540 1495 1982  841  136 3443 2591 3095  548 3256\n",
      " 2163 2732 1056 3277  100 2968 3058 1634 2087 2673 3887  199 3412 2453\n",
      " 1519 1686 3168 3324  110 3370 3554 1703  672 2000  375  305  423  611\n",
      "  575 4031 3174 1157  271 2222 1130 2030 1759 3523 1950 2327 2485 1767\n",
      " 3119 3655 1284 3153 2233 3219 1209 4004 1795  365 2528 1103 2037  431\n",
      " 1117  502 2642  213 1688 1445 3055  421 3717  475 1726 3950  333 3684\n",
      " 3699 1752 1970  313 3861 1567  524  881 3091 3768  256 1565 4042 2886\n",
      " 2954 3969 3824 1490 3845  911 4029 2726 3010 3958 3329 1381 2175 2406\n",
      " 3792 2983 1531 2062  726 2535 2221 4011 3062 2314 3264 3817 2095 3610\n",
      " 1357 2376 2290  441 2259 1438 3338 2652  846 1778 2712 1441  250  194\n",
      "  481  733 1114  117  376 1946  682  702 3847 2281 2190 1528 3649 1243\n",
      " 1154  832 1628  660 1134 1980 3456  572 3203 3363 1949 3258 3940 3955\n",
      " 2002  424 1080 2056 1821 2920 1775 3330 3001  108 3193 2011  686 3567\n",
      " 2297 2595 3703 2438 2220 3105 2234  827 2299 1574 3267 3937 3146 1593\n",
      " 3083  195 2560 3879 2610  896 2955  947 1689 3632 1193 2089 2043 3949\n",
      " 3348 3697 3862 1656 3854  513 2775  795 3044 3347  293 3299 2961 2149\n",
      " 1252 1361 1595 1687 2283 2379 1702 3287  962 1611 2616 3416 2710  930\n",
      " 3680  922 1879 1535 1275  458 2879 3202 3659 2671 2647 1314  378 1152\n",
      " 2780 2192 1281 2038 3986 3303 1758  653 2530 2440 1658 2267 3650  725\n",
      "  248  774  417  921 1551 1038 1935   28 3493 3107 1293 2551   23 2090\n",
      " 2211 3139 1179 1198 2592 4035 1178 1924 3867 3212 3155 3727 3531 1320\n",
      " 3435 3269 3891 2276  218 3275 1696  749 1061 1123 3042 1309 2328 1992\n",
      " 1409  240 1442  141 3662  828  295 3613 2907  457 1892  742 2913 2352\n",
      "  885 3300 4008  181   27  822  623 2881 1964 4003 2378 1226 2407 2757\n",
      "  439  851 2321 1167 2631 1622  729 1404 2360  594 3194 1045  819  133\n",
      " 1558  416  564  174 1812 1289 2793 2829 3343 1297 2998 2917  727  433\n",
      " 1102  124 3938 2883 1440 2252 1764 3734 3064 3459 3018 1141 2153 1694\n",
      " 3075 2546 3066 1919 2452 2417 3322 3135  436 2970 3178 3665 3471  648\n",
      " 2752 2189 1321  673  438 1478 1169 2988 4045 2122 4041 1346  561 3387\n",
      " 3645   15 2778  703  873 3490 1076 2889 3054 1327  887  754 2621 2840\n",
      " 3157 2504 1353 3676 1149   89 2596 3730 2827 2003 1714  813 3485 3621\n",
      " 2777  553  355 3022 3257 1325 3786 1424 1566  352 3877 1718 1600 2489\n",
      "  916  120 2033 2877  201 2871 1784 2801 2092 3915 2811 3654 2313 3507\n",
      " 1032 1930 3418 3794 3149 2151 2152 3922 3020 1356 2657  890 3249 3460\n",
      " 2451 1185 1863 4020 3780 2017 1514 1814 1624 2636 1160  722 3117 1516\n",
      "  412 3060 3450 2978 2925 3008 1675 2622  130  972 2653  491 1106  332\n",
      "  158 3793 2974 1464 2635 1470 2400 3941 2646 1869 1615 2319 2423 1074\n",
      " 2492 2767 1639 3382 1366 2008 2484 3497   97  994 2280 3666 3973 2720\n",
      " 1132 1942 2799 1350 2294  719 2312 1539 3860  150 3719 3240 3959 2325\n",
      " 3681 1362 3751 1270  956 1388 3606 3976   50 2226 3591  512 3475  275\n",
      "  435 1118 3103 1690 3965 2668 1375 3747 1237 2482  287  613 1865 1201\n",
      " 3651 1806 3270 2107 1287 2506 1855 2200  426 3564 1116 1707 2148 2021\n",
      " 2884  985 3290 1955 1047  991 3035 2411 2197 1254  371  569 2589 1048\n",
      " 3235 1024 1756 1493 1425 1712 1075  811  537 3843   58  277 2016 3292\n",
      " 2545  109 3112 1916 1256 2434  469 3502 1772 2529 1578 3328 3757 3508\n",
      " 2847 3142 4036  903  892 1307 3781 2005 3988  301 2223 3883]\n"
     ]
    }
   ],
   "source": [
    "print(y_test)"
   ]
  },
  {
   "cell_type": "code",
   "execution_count": null,
   "id": "6ab894f8",
   "metadata": {},
   "outputs": [],
   "source": []
  }
 ],
 "metadata": {
  "kernelspec": {
   "display_name": "Python 3 (ipykernel)",
   "language": "python",
   "name": "python3"
  },
  "language_info": {
   "codemirror_mode": {
    "name": "ipython",
    "version": 3
   },
   "file_extension": ".py",
   "mimetype": "text/x-python",
   "name": "python",
   "nbconvert_exporter": "python",
   "pygments_lexer": "ipython3",
   "version": "3.9.7"
  }
 },
 "nbformat": 4,
 "nbformat_minor": 5
}
